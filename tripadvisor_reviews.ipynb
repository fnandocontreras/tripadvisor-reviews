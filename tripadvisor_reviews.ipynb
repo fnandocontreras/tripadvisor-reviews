{
  "nbformat": 4,
  "nbformat_minor": 0,
  "metadata": {
    "accelerator": "GPU",
    "colab": {
      "name": "tripadvisor_reviews.ipynb",
      "provenance": [],
      "collapsed_sections": [],
      "machine_shape": "hm",
      "mount_file_id": "1uUCp49YHpNAOctebxZ7HGKzpPJ1UWM0C",
      "authorship_tag": "ABX9TyOTNiCBYc6nAmcW2jSSK/U9",
      "include_colab_link": true
    },
    "kernelspec": {
      "display_name": "Python 3",
      "name": "python3"
    }
  },
  "cells": [
    {
      "cell_type": "markdown",
      "metadata": {
        "id": "view-in-github",
        "colab_type": "text"
      },
      "source": [
        "<a href=\"https://colab.research.google.com/github/fnandocontreras/tripadvisor-reviews/blob/main/tripadvisor_reviews.ipynb\" target=\"_parent\"><img src=\"https://colab.research.google.com/assets/colab-badge.svg\" alt=\"Open In Colab\"/></a>"
      ]
    },
    {
      "cell_type": "code",
      "metadata": {
        "id": "SJ526sShHdpX",
        "colab": {
          "base_uri": "https://localhost:8080/"
        },
        "outputId": "76f48cb6-5e01-43b7-e002-63d4d1b53067"
      },
      "source": [
        "import pandas as pd\n",
        "import tensorflow as tf\n",
        "import matplotlib.pyplot as plt\n",
        "import seaborn as sns\n",
        "import os\n",
        "import re\n",
        "\n",
        "print(tf.__version__)"
      ],
      "execution_count": 1,
      "outputs": [
        {
          "output_type": "stream",
          "text": [
            "2.4.1\n"
          ],
          "name": "stdout"
        }
      ]
    },
    {
      "cell_type": "markdown",
      "metadata": {
        "id": "rEUcqD1kzOxX"
      },
      "source": [
        "# Downloading data from kaggle"
      ]
    },
    {
      "cell_type": "code",
      "metadata": {
        "id": "x-3iU-TFz8Dn"
      },
      "source": [
        "! pip install -q kaggle"
      ],
      "execution_count": 2,
      "outputs": []
    },
    {
      "cell_type": "code",
      "metadata": {
        "colab": {
          "resources": {
            "http://localhost:8080/nbextensions/google.colab/files.js": {
              "data": "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",
              "ok": true,
              "headers": [
                [
                  "content-type",
                  "application/javascript"
                ]
              ],
              "status": 200,
              "status_text": ""
            }
          },
          "base_uri": "https://localhost:8080/",
          "height": 89
        },
        "id": "QUs8INvYzJCs",
        "outputId": "6293a91e-355b-4629-ad5c-dc472c499c0b"
      },
      "source": [
        "from google.colab import files\n",
        "files.upload()"
      ],
      "execution_count": 3,
      "outputs": [
        {
          "output_type": "display_data",
          "data": {
            "text/html": [
              "\n",
              "     <input type=\"file\" id=\"files-1a122da5-a348-48ca-a69d-5d75b7ec463a\" name=\"files[]\" multiple disabled\n",
              "        style=\"border:none\" />\n",
              "     <output id=\"result-1a122da5-a348-48ca-a69d-5d75b7ec463a\">\n",
              "      Upload widget is only available when the cell has been executed in the\n",
              "      current browser session. Please rerun this cell to enable.\n",
              "      </output>\n",
              "      <script src=\"/nbextensions/google.colab/files.js\"></script> "
            ],
            "text/plain": [
              "<IPython.core.display.HTML object>"
            ]
          },
          "metadata": {
            "tags": []
          }
        },
        {
          "output_type": "stream",
          "text": [
            "Saving kaggle.json to kaggle.json\n"
          ],
          "name": "stdout"
        },
        {
          "output_type": "execute_result",
          "data": {
            "text/plain": [
              "{'kaggle.json': b'{\"username\":\"fcontreras\",\"key\":\"05bf06923b908a5e3e01cae97a62dc0e\"}'}"
            ]
          },
          "metadata": {
            "tags": []
          },
          "execution_count": 3
        }
      ]
    },
    {
      "cell_type": "code",
      "metadata": {
        "id": "VZLZCQajzeuW"
      },
      "source": [
        "! mkdir ~/.kaggle\n",
        "! cp kaggle.json ~/.kaggle/\n",
        "! chmod 600 ~/.kaggle/kaggle.json"
      ],
      "execution_count": 4,
      "outputs": []
    },
    {
      "cell_type": "code",
      "metadata": {
        "colab": {
          "base_uri": "https://localhost:8080/"
        },
        "id": "RSXw0iub1d6e",
        "outputId": "d8085296-f66c-40cc-fe25-cfa3d75908f3"
      },
      "source": [
        "!kaggle datasets list -s Glove.twitter.100d"
      ],
      "execution_count": 5,
      "outputs": [
        {
          "output_type": "stream",
          "text": [
            "Warning: Looks like you're using an outdated API Version, please consider updating (server 1.5.12 / client 1.5.4)\n",
            "ref                                                      title                                              size  lastUpdated          downloadCount  \n",
            "-------------------------------------------------------  ------------------------------------------------  -----  -------------------  -------------  \n",
            "naominguyen7/glovetwitter100d                            Glove.twitter.100d                                397MB  2017-12-28 18:26:47            315  \n",
            "jdpaletto/glove-global-vectors-for-word-representation   GloVe: Global Vectors for Word Representation       1GB  2018-02-22 20:05:00           1401  \n",
            "richardfourd/glovetwitter27b100d                         glove.twitter.27B.100d                            397MB  2018-01-17 01:40:41             20  \n",
            "apresswala52/glovetwitter27b100d                         glove.twitter.27B.100D                            397MB  2020-07-19 05:03:00              0  \n",
            "robertyoung/glove-twitter-pickles-27b-25d-50d-100d-200d  GloVe Twitter Pickles 27B - 25d, 50d, 100d, 200d    2GB  2019-12-28 12:53:01             69  \n"
          ],
          "name": "stdout"
        }
      ]
    },
    {
      "cell_type": "code",
      "metadata": {
        "colab": {
          "base_uri": "https://localhost:8080/"
        },
        "id": "dsHwbTp60e0S",
        "outputId": "855be739-8445-4667-fc72-b4490ba4d957"
      },
      "source": [
        "!kaggle datasets download -d andrewmvd/trip-advisor-hotel-reviews\n",
        "!kaggle datasets download -d naominguyen7/glovetwitter100d\n",
        "!ls /content"
      ],
      "execution_count": 6,
      "outputs": [
        {
          "output_type": "stream",
          "text": [
            "Downloading trip-advisor-hotel-reviews.zip to /content\n",
            "\r  0% 0.00/5.14M [00:00<?, ?B/s]\r 97% 5.00M/5.14M [00:00<00:00, 34.1MB/s]\n",
            "100% 5.14M/5.14M [00:00<00:00, 32.8MB/s]\n",
            "Downloading glovetwitter100d.zip to /content\n",
            " 99% 393M/397M [00:23<00:00, 26.0MB/s]\n",
            "100% 397M/397M [00:23<00:00, 17.4MB/s]\n",
            "glovetwitter100d.zip  kaggle.json  sample_data\ttrip-advisor-hotel-reviews.zip\n"
          ],
          "name": "stdout"
        }
      ]
    },
    {
      "cell_type": "code",
      "metadata": {
        "colab": {
          "base_uri": "https://localhost:8080/",
          "height": 419
        },
        "id": "qACWLrEjHj59",
        "outputId": "1cb60db2-08f3-460f-8b64-889767358836"
      },
      "source": [
        "base_path = '/content/'\n",
        "df = pd.read_csv(os.path.join( base_path, 'trip-advisor-hotel-reviews.zip'))\n",
        "df"
      ],
      "execution_count": 7,
      "outputs": [
        {
          "output_type": "execute_result",
          "data": {
            "text/html": [
              "<div>\n",
              "<style scoped>\n",
              "    .dataframe tbody tr th:only-of-type {\n",
              "        vertical-align: middle;\n",
              "    }\n",
              "\n",
              "    .dataframe tbody tr th {\n",
              "        vertical-align: top;\n",
              "    }\n",
              "\n",
              "    .dataframe thead th {\n",
              "        text-align: right;\n",
              "    }\n",
              "</style>\n",
              "<table border=\"1\" class=\"dataframe\">\n",
              "  <thead>\n",
              "    <tr style=\"text-align: right;\">\n",
              "      <th></th>\n",
              "      <th>Review</th>\n",
              "      <th>Rating</th>\n",
              "    </tr>\n",
              "  </thead>\n",
              "  <tbody>\n",
              "    <tr>\n",
              "      <th>0</th>\n",
              "      <td>nice hotel expensive parking got good deal sta...</td>\n",
              "      <td>4</td>\n",
              "    </tr>\n",
              "    <tr>\n",
              "      <th>1</th>\n",
              "      <td>ok nothing special charge diamond member hilto...</td>\n",
              "      <td>2</td>\n",
              "    </tr>\n",
              "    <tr>\n",
              "      <th>2</th>\n",
              "      <td>nice rooms not 4* experience hotel monaco seat...</td>\n",
              "      <td>3</td>\n",
              "    </tr>\n",
              "    <tr>\n",
              "      <th>3</th>\n",
              "      <td>unique, great stay, wonderful time hotel monac...</td>\n",
              "      <td>5</td>\n",
              "    </tr>\n",
              "    <tr>\n",
              "      <th>4</th>\n",
              "      <td>great stay great stay, went seahawk game aweso...</td>\n",
              "      <td>5</td>\n",
              "    </tr>\n",
              "    <tr>\n",
              "      <th>...</th>\n",
              "      <td>...</td>\n",
              "      <td>...</td>\n",
              "    </tr>\n",
              "    <tr>\n",
              "      <th>20486</th>\n",
              "      <td>best kept secret 3rd time staying charm, not 5...</td>\n",
              "      <td>5</td>\n",
              "    </tr>\n",
              "    <tr>\n",
              "      <th>20487</th>\n",
              "      <td>great location price view hotel great quick pl...</td>\n",
              "      <td>4</td>\n",
              "    </tr>\n",
              "    <tr>\n",
              "      <th>20488</th>\n",
              "      <td>ok just looks nice modern outside, desk staff ...</td>\n",
              "      <td>2</td>\n",
              "    </tr>\n",
              "    <tr>\n",
              "      <th>20489</th>\n",
              "      <td>hotel theft ruined vacation hotel opened sept ...</td>\n",
              "      <td>1</td>\n",
              "    </tr>\n",
              "    <tr>\n",
              "      <th>20490</th>\n",
              "      <td>people talking, ca n't believe excellent ratin...</td>\n",
              "      <td>2</td>\n",
              "    </tr>\n",
              "  </tbody>\n",
              "</table>\n",
              "<p>20491 rows × 2 columns</p>\n",
              "</div>"
            ],
            "text/plain": [
              "                                                  Review  Rating\n",
              "0      nice hotel expensive parking got good deal sta...       4\n",
              "1      ok nothing special charge diamond member hilto...       2\n",
              "2      nice rooms not 4* experience hotel monaco seat...       3\n",
              "3      unique, great stay, wonderful time hotel monac...       5\n",
              "4      great stay great stay, went seahawk game aweso...       5\n",
              "...                                                  ...     ...\n",
              "20486  best kept secret 3rd time staying charm, not 5...       5\n",
              "20487  great location price view hotel great quick pl...       4\n",
              "20488  ok just looks nice modern outside, desk staff ...       2\n",
              "20489  hotel theft ruined vacation hotel opened sept ...       1\n",
              "20490  people talking, ca n't believe excellent ratin...       2\n",
              "\n",
              "[20491 rows x 2 columns]"
            ]
          },
          "metadata": {
            "tags": []
          },
          "execution_count": 7
        }
      ]
    },
    {
      "cell_type": "markdown",
      "metadata": {
        "id": "cFa_SIskkr_7"
      },
      "source": [
        "# Rating counts"
      ]
    },
    {
      "cell_type": "code",
      "metadata": {
        "colab": {
          "base_uri": "https://localhost:8080/",
          "height": 285
        },
        "id": "ofNJvEzFHwO0",
        "outputId": "9c82f74e-88cf-4f4a-8c1b-c80ef9183dd9"
      },
      "source": [
        "rating_counts = df['Rating'].value_counts()\n",
        "df_counts = pd.DataFrame({'rating': rating_counts.index, 'count': rating_counts.values})\n",
        "\n",
        "sns.set_theme(style=\"whitegrid\")\n",
        "ax = sns.barplot(x=\"rating\", y=\"count\", data=df_counts)"
      ],
      "execution_count": 35,
      "outputs": [
        {
          "output_type": "display_data",
          "data": {
            "image/png": "[encoded data removed]",
            "text/plain": [
              "<Figure size 432x288 with 1 Axes>"
            ]
          },
          "metadata": {
            "tags": []
          }
        }
      ]
    },
    {
      "cell_type": "markdown",
      "metadata": {
        "id": "lIwgwhPhk-Jr"
      },
      "source": [
        "# Exploring reviews"
      ]
    },
    {
      "cell_type": "code",
      "metadata": {
        "colab": {
          "base_uri": "https://localhost:8080/"
        },
        "id": "uRrsM2DTIqAw",
        "outputId": "20c9f1c5-e9f4-4df1-e967-9d2c6f3ed6d2"
      },
      "source": [
        "texts = df['Review'].values\n",
        "ratings = df['Rating'].astype(float).values\n",
        "print(texts[:5])"
      ],
      "execution_count": 9,
      "outputs": [
        {
          "output_type": "stream",
          "text": [
            "['nice hotel expensive parking got good deal stay hotel anniversary, arrived late evening took advice previous reviews did valet parking, check quick easy, little disappointed non-existent view room room clean nice size, bed comfortable woke stiff neck high pillows, not soundproof like heard music room night morning loud bangs doors opening closing hear people talking hallway, maybe just noisy neighbors, aveda bath products nice, did not goldfish stay nice touch taken advantage staying longer, location great walking distance shopping, overall nice experience having pay 40 parking night,  '\n",
            " 'ok nothing special charge diamond member hilton decided chain shot 20th anniversary seattle, start booked suite paid extra website description not, suite bedroom bathroom standard hotel room, took printed reservation desk showed said things like tv couch ect desk clerk told oh mixed suites description kimpton website sorry free breakfast, got kidding, embassy suits sitting room bathroom bedroom unlike kimpton calls suite, 5 day stay offer correct false advertising, send kimpton preferred guest website email asking failure provide suite advertised website reservation description furnished hard copy reservation printout website desk manager duty did not reply solution, send email trip guest survey did not follow email mail, guess tell concerned guest.the staff ranged indifferent not helpful, asked desk good breakfast spots neighborhood hood told no hotels, gee best breakfast spots seattle 1/2 block away convenient hotel does not know exist, arrived late night 11 pm inside run bellman busy chating cell phone help bags.prior arrival emailed hotel inform 20th anniversary half really picky wanted make sure good, got nice email saying like deliver bottle champagne chocolate covered strawberries room arrival celebrate, told needed foam pillows, arrival no champagne strawberries no foam pillows great room view alley high rise building good not better housekeeping staff cleaner room property, impressed left morning shopping room got short trips 2 hours, beds comfortable.not good ac-heat control 4 x 4 inch screen bring green shine directly eyes night, light sensitive tape controls.this not 4 start hotel clean business hotel super high rates, better chain hotels seattle,  '\n",
            " \"nice rooms not 4* experience hotel monaco seattle good hotel n't 4* level.positives large bathroom mediterranean suite comfortable bed pillowsattentive housekeeping staffnegatives ac unit malfunctioned stay desk disorganized, missed 3 separate wakeup calls, concierge busy hard touch, did n't provide guidance special requests.tv hard use ipod sound dock suite non functioning. decided book mediterranean suite 3 night weekend stay 1st choice rest party filled, comparison w spent 45 night larger square footage room great soaking tub whirlpool jets nice shower.before stay hotel arrange car service price 53 tip reasonable driver waiting arrival.checkin easy downside room picked 2 person jacuzi tub no bath accessories salts bubble bath did n't stay, night got 12/1a checked voucher bottle champagne nice gesture fish waiting room, impression room huge open space felt room big, tv far away bed chore change channel, ipod dock broken disappointing.in morning way asked desk check thermostat said 65f 74 2 degrees warm try cover face night bright blue light kept, got room night no, 1st drop desk, called maintainence came look thermostat told play settings happy digital box wo n't work, asked wakeup 10am morning did n't happen, called later 6pm nap wakeup forgot, 10am wakeup morning yep forgotten.the bathroom facilities great room surprised room sold whirlpool bath tub n't bath amenities, great relax water jets going,  \"\n",
            " \"unique, great stay, wonderful time hotel monaco, location excellent short stroll main downtown shopping area, pet friendly room showed no signs animal hair smells, monaco suite sleeping area big striped curtains pulled closed nice touch felt cosy, goldfish named brandi enjoyed, did n't partake free wine coffee/tea service lobby thought great feature, great staff friendly, free wireless internet hotel worked suite 2 laptops, decor lovely eclectic mix pattens color palatte, animal print bathrobes feel like rock stars, nice did n't look like sterile chain hotel hotel personality excellent stay,  \"\n",
            " \"great stay great stay, went seahawk game awesome, downfall view building did n't complain, room huge staff helpful, booked hotels website seahawk package, no charge parking got voucher taxi, problem taxi driver did n't want accept voucher barely spoke english, funny thing speak arabic called started making comments girlfriend cell phone buddy, took second realize just said fact speak language face priceless, ass told, said large city, told head doorman issue called cab company promply answer did n't, apologized offered pay taxi, bucks 2 miles stadium, game plan taxi return going humpin, great walk did n't mind, right christmas wonderful lights, homeless stowed away building entrances leave, police presence not greatest area stadium, activities 7 blocks pike street waterfront great coffee shops way, hotel mantained foyer awesome, wine tasting available evening, best dog, taking st. bernard time family, safes hotel located service desk room, bathroom huge jetted tub huge, funny house keeping walked girlfriend getting dressed, did n't hear knock doing turn service, screamed girlfriend screams hit floor laughing, started talking spanish worked, place recommend price, check online deals just good not better, besite contains deals vouchers travel websites n't tell,  \"]\n"
          ],
          "name": "stdout"
        }
      ]
    },
    {
      "cell_type": "markdown",
      "metadata": {
        "id": "I-m5wwnxR_uP"
      },
      "source": [
        "# Removing digits from text corpus"
      ]
    },
    {
      "cell_type": "code",
      "metadata": {
        "id": "g9KaxycYNi6Z"
      },
      "source": [
        "df['Review'] = df['Review'].apply(lambda x: re.sub('\\d+', '', x))"
      ],
      "execution_count": 10,
      "outputs": []
    },
    {
      "cell_type": "markdown",
      "metadata": {
        "id": "61ZrDlynSHLy"
      },
      "source": [
        "# Removing stopwords"
      ]
    },
    {
      "cell_type": "code",
      "metadata": {
        "colab": {
          "base_uri": "https://localhost:8080/"
        },
        "id": "UD-zev6rSrvO",
        "outputId": "6c9264fd-1bd6-4dab-8cb3-8abbd81843c5"
      },
      "source": [
        "import nltk\n",
        "from nltk.corpus import stopwords\n",
        "from nltk.tokenize import word_tokenize\n",
        "\n",
        "nltk.download(\"stopwords\")\n",
        "nltk.download('punkt')\n",
        "stop_words = set(stopwords.words('english'))\n",
        "\n",
        "def remove_stop_words(sentence):\n",
        "  tokens = word_tokenize(sentence)\n",
        "  tokens = [tok for tok in tokens if not tok in stop_words]\n",
        "  return ' '.join(tokens)\n",
        "\n",
        "df['Review'] = df['Review'].apply(lambda x: remove_stop_words(x))"
      ],
      "execution_count": 11,
      "outputs": [
        {
          "output_type": "stream",
          "text": [
            "[nltk_data] Downloading package stopwords to /root/nltk_data...\n",
            "[nltk_data]   Unzipping corpora/stopwords.zip.\n",
            "[nltk_data] Downloading package punkt to /root/nltk_data...\n",
            "[nltk_data]   Unzipping tokenizers/punkt.zip.\n"
          ],
          "name": "stdout"
        }
      ]
    },
    {
      "cell_type": "markdown",
      "metadata": {
        "id": "g6apfW9aF1Ho"
      },
      "source": [
        "# Splitting dataset in train/test"
      ]
    },
    {
      "cell_type": "code",
      "metadata": {
        "id": "BFe7j78aF9Gp"
      },
      "source": [
        "from sklearn.model_selection import train_test_split\n",
        "x_train, x_test, y_train, y_test = train_test_split(texts, ratings, test_size=0.05, shuffle=True)"
      ],
      "execution_count": 12,
      "outputs": []
    },
    {
      "cell_type": "markdown",
      "metadata": {
        "id": "FtexniD2mQk7"
      },
      "source": [
        "# Tokenizing reviews"
      ]
    },
    {
      "cell_type": "code",
      "metadata": {
        "id": "lg5RmAI60yPW"
      },
      "source": [
        "from tensorflow.keras.preprocessing.sequence import pad_sequences\n",
        "from tensorflow.keras.preprocessing.text import Tokenizer\n",
        "import numpy as np"
      ],
      "execution_count": 13,
      "outputs": []
    },
    {
      "cell_type": "code",
      "metadata": {
        "id": "FIuzR9py1Wsg"
      },
      "source": [
        "tokenizer = Tokenizer()\n",
        "tokenizer.fit_on_texts(texts)\n",
        "total_words = len(tokenizer.word_index) + 1\n",
        "\n",
        "train_sequences = tokenizer.texts_to_sequences(x_train)\n",
        "test_sequences = tokenizer.texts_to_sequences(x_test)\n",
        "\n",
        "word_index = tokenizer.word_index\n",
        "max_sequence_len = max([len(x) for x in train_sequences])\n",
        "\n",
        "train_sequences = np.array(pad_sequences(train_sequences, maxlen=max_sequence_len, padding='post'))\n",
        "test_sequences = np.array(pad_sequences(test_sequences, maxlen=max_sequence_len, padding='post'))"
      ],
      "execution_count": 14,
      "outputs": []
    },
    {
      "cell_type": "markdown",
      "metadata": {
        "id": "sMTL1bOpnQtY"
      },
      "source": [
        "# Loading Glove word embedding vectors"
      ]
    },
    {
      "cell_type": "code",
      "metadata": {
        "id": "565sMC91xHXz"
      },
      "source": [
        "from zipfile import ZipFile\n",
        "import io\n",
        "\n",
        "embedding_dim = 100\n",
        "\n",
        "embeddings_index = {};\n",
        "with ZipFile(os.path.join(base_path, 'glovetwitter100d.zip'), 'r') as zip:\n",
        "  with io.TextIOWrapper(zip.open(f\"glove.twitter.27B.{embedding_dim}d.txt\"), encoding=\"utf-8\") as f:\n",
        "    for line in f:\n",
        "        values = line.split();\n",
        "        word = values[0];\n",
        "        coefs = np.asarray(values[1:], dtype='float32');\n",
        "        embeddings_index[word] = coefs;\n",
        "\n",
        "oov_words = []\n",
        "\n",
        "embeddings_matrix = np.zeros((total_words, embedding_dim));\n",
        "for word, i in word_index.items():\n",
        "  embedding_vector = embeddings_index.get(word);\n",
        "  if embedding_vector is not None:\n",
        "    embeddings_matrix[i] = embedding_vector;\n",
        "  else :\n",
        "    oov_words.append(word)\n",
        "\n",
        "oov_words = list(set(oov_words))"
      ],
      "execution_count": 15,
      "outputs": []
    },
    {
      "cell_type": "markdown",
      "metadata": {
        "id": "PYbHc7au9pn1"
      },
      "source": [
        "# Autocorrecting misspelled words"
      ]
    },
    {
      "cell_type": "code",
      "metadata": {
        "colab": {
          "base_uri": "https://localhost:8080/"
        },
        "id": "XORw13rw-NIF",
        "outputId": "ef8bf34e-815d-4d9d-d857-76b81c583021"
      },
      "source": [
        "!pip install -q pyspellchecker\n",
        "\n",
        "from spellchecker import SpellChecker"
      ],
      "execution_count": 16,
      "outputs": [
        {
          "output_type": "stream",
          "text": [
            "\u001b[?25l\r\u001b[K     |▏                               | 10kB 22.6MB/s eta 0:00:01\r\u001b[K     |▎                               | 20kB 26.9MB/s eta 0:00:01\r\u001b[K     |▍                               | 30kB 28.9MB/s eta 0:00:01\r\u001b[K     |▌                               | 40kB 18.2MB/s eta 0:00:01\r\u001b[K     |▋                               | 51kB 12.6MB/s eta 0:00:01\r\u001b[K     |▊                               | 61kB 10.6MB/s eta 0:00:01\r\u001b[K     |▉                               | 71kB 11.7MB/s eta 0:00:01\r\u001b[K     |█                               | 81kB 11.9MB/s eta 0:00:01\r\u001b[K     |█                               | 92kB 12.8MB/s eta 0:00:01\r\u001b[K     |█▏                              | 102kB 9.7MB/s eta 0:00:01\r\u001b[K     |█▎                              | 112kB 9.7MB/s eta 0:00:01\r\u001b[K     |█▍                              | 122kB 9.7MB/s eta 0:00:01\r\u001b[K     |█▌                              | 133kB 9.7MB/s eta 0:00:01\r\u001b[K     |█▊                              | 143kB 9.7MB/s eta 0:00:01\r\u001b[K     |█▉                              | 153kB 9.7MB/s eta 0:00:01\r\u001b[K     |██                              | 163kB 9.7MB/s eta 0:00:01\r\u001b[K     |██                              | 174kB 9.7MB/s eta 0:00:01\r\u001b[K     |██▏                             | 184kB 9.7MB/s eta 0:00:01\r\u001b[K     |██▎                             | 194kB 9.7MB/s eta 0:00:01\r\u001b[K     |██▍                             | 204kB 9.7MB/s eta 0:00:01\r\u001b[K     |██▌                             | 215kB 9.7MB/s eta 0:00:01\r\u001b[K     |██▋                             | 225kB 9.7MB/s eta 0:00:01\r\u001b[K     |██▊                             | 235kB 9.7MB/s eta 0:00:01\r\u001b[K     |██▉                             | 245kB 9.7MB/s eta 0:00:01\r\u001b[K     |███                             | 256kB 9.7MB/s eta 0:00:01\r\u001b[K     |███                             | 266kB 9.7MB/s eta 0:00:01\r\u001b[K     |███▎                            | 276kB 9.7MB/s eta 0:00:01\r\u001b[K     |███▍                            | 286kB 9.7MB/s eta 0:00:01\r\u001b[K     |███▌                            | 296kB 9.7MB/s eta 0:00:01\r\u001b[K     |███▋                            | 307kB 9.7MB/s eta 0:00:01\r\u001b[K     |███▊                            | 317kB 9.7MB/s eta 0:00:01\r\u001b[K     |███▉                            | 327kB 9.7MB/s eta 0:00:01\r\u001b[K     |████                            | 337kB 9.7MB/s eta 0:00:01\r\u001b[K     |████                            | 348kB 9.7MB/s eta 0:00:01\r\u001b[K     |████▏                           | 358kB 9.7MB/s eta 0:00:01\r\u001b[K     |████▎                           | 368kB 9.7MB/s eta 0:00:01\r\u001b[K     |████▍                           | 378kB 9.7MB/s eta 0:00:01\r\u001b[K     |████▌                           | 389kB 9.7MB/s eta 0:00:01\r\u001b[K     |████▋                           | 399kB 9.7MB/s eta 0:00:01\r\u001b[K     |████▉                           | 409kB 9.7MB/s eta 0:00:01\r\u001b[K     |█████                           | 419kB 9.7MB/s eta 0:00:01\r\u001b[K     |█████                           | 430kB 9.7MB/s eta 0:00:01\r\u001b[K     |█████▏                          | 440kB 9.7MB/s eta 0:00:01\r\u001b[K     |█████▎                          | 450kB 9.7MB/s eta 0:00:01\r\u001b[K     |█████▍                          | 460kB 9.7MB/s eta 0:00:01\r\u001b[K     |█████▌                          | 471kB 9.7MB/s eta 0:00:01\r\u001b[K     |█████▋                          | 481kB 9.7MB/s eta 0:00:01\r\u001b[K     |█████▊                          | 491kB 9.7MB/s eta 0:00:01\r\u001b[K     |█████▉                          | 501kB 9.7MB/s eta 0:00:01\r\u001b[K     |██████                          | 512kB 9.7MB/s eta 0:00:01\r\u001b[K     |██████                          | 522kB 9.7MB/s eta 0:00:01\r\u001b[K     |██████▏                         | 532kB 9.7MB/s eta 0:00:01\r\u001b[K     |██████▍                         | 542kB 9.7MB/s eta 0:00:01\r\u001b[K     |██████▌                         | 552kB 9.7MB/s eta 0:00:01\r\u001b[K     |██████▋                         | 563kB 9.7MB/s eta 0:00:01\r\u001b[K     |██████▊                         | 573kB 9.7MB/s eta 0:00:01\r\u001b[K     |██████▉                         | 583kB 9.7MB/s eta 0:00:01\r\u001b[K     |███████                         | 593kB 9.7MB/s eta 0:00:01\r\u001b[K     |███████                         | 604kB 9.7MB/s eta 0:00:01\r\u001b[K     |███████▏                        | 614kB 9.7MB/s eta 0:00:01\r\u001b[K     |███████▎                        | 624kB 9.7MB/s eta 0:00:01\r\u001b[K     |███████▍                        | 634kB 9.7MB/s eta 0:00:01\r\u001b[K     |███████▌                        | 645kB 9.7MB/s eta 0:00:01\r\u001b[K     |███████▋                        | 655kB 9.7MB/s eta 0:00:01\r\u001b[K     |███████▊                        | 665kB 9.7MB/s eta 0:00:01\r\u001b[K     |████████                        | 675kB 9.7MB/s eta 0:00:01\r\u001b[K     |████████                        | 686kB 9.7MB/s eta 0:00:01\r\u001b[K     |████████▏                       | 696kB 9.7MB/s eta 0:00:01\r\u001b[K     |████████▎                       | 706kB 9.7MB/s eta 0:00:01\r\u001b[K     |████████▍                       | 716kB 9.7MB/s eta 0:00:01\r\u001b[K     |████████▌                       | 727kB 9.7MB/s eta 0:00:01\r\u001b[K     |████████▋                       | 737kB 9.7MB/s eta 0:00:01\r\u001b[K     |████████▊                       | 747kB 9.7MB/s eta 0:00:01\r\u001b[K     |████████▉                       | 757kB 9.7MB/s eta 0:00:01\r\u001b[K     |█████████                       | 768kB 9.7MB/s eta 0:00:01\r\u001b[K     |█████████                       | 778kB 9.7MB/s eta 0:00:01\r\u001b[K     |█████████▏                      | 788kB 9.7MB/s eta 0:00:01\r\u001b[K     |█████████▎                      | 798kB 9.7MB/s eta 0:00:01\r\u001b[K     |█████████▌                      | 808kB 9.7MB/s eta 0:00:01\r\u001b[K     |█████████▋                      | 819kB 9.7MB/s eta 0:00:01\r\u001b[K     |█████████▊                      | 829kB 9.7MB/s eta 0:00:01\r\u001b[K     |█████████▉                      | 839kB 9.7MB/s eta 0:00:01\r\u001b[K     |██████████                      | 849kB 9.7MB/s eta 0:00:01\r\u001b[K     |██████████                      | 860kB 9.7MB/s eta 0:00:01\r\u001b[K     |██████████▏                     | 870kB 9.7MB/s eta 0:00:01\r\u001b[K     |██████████▎                     | 880kB 9.7MB/s eta 0:00:01\r\u001b[K     |██████████▍                     | 890kB 9.7MB/s eta 0:00:01\r\u001b[K     |██████████▌                     | 901kB 9.7MB/s eta 0:00:01\r\u001b[K     |██████████▋                     | 911kB 9.7MB/s eta 0:00:01\r\u001b[K     |██████████▊                     | 921kB 9.7MB/s eta 0:00:01\r\u001b[K     |██████████▉                     | 931kB 9.7MB/s eta 0:00:01\r\u001b[K     |███████████                     | 942kB 9.7MB/s eta 0:00:01\r\u001b[K     |███████████▏                    | 952kB 9.7MB/s eta 0:00:01\r\u001b[K     |███████████▎                    | 962kB 9.7MB/s eta 0:00:01\r\u001b[K     |███████████▍                    | 972kB 9.7MB/s eta 0:00:01\r\u001b[K     |███████████▌                    | 983kB 9.7MB/s eta 0:00:01\r\u001b[K     |███████████▋                    | 993kB 9.7MB/s eta 0:00:01\r\u001b[K     |███████████▊                    | 1.0MB 9.7MB/s eta 0:00:01\r\u001b[K     |███████████▉                    | 1.0MB 9.7MB/s eta 0:00:01\r\u001b[K     |████████████                    | 1.0MB 9.7MB/s eta 0:00:01\r\u001b[K     |████████████                    | 1.0MB 9.7MB/s eta 0:00:01\r\u001b[K     |████████████▏                   | 1.0MB 9.7MB/s eta 0:00:01\r\u001b[K     |████████████▎                   | 1.1MB 9.7MB/s eta 0:00:01\r\u001b[K     |████████████▍                   | 1.1MB 9.7MB/s eta 0:00:01\r\u001b[K     |████████████▋                   | 1.1MB 9.7MB/s eta 0:00:01\r\u001b[K     |████████████▊                   | 1.1MB 9.7MB/s eta 0:00:01\r\u001b[K     |████████████▉                   | 1.1MB 9.7MB/s eta 0:00:01\r\u001b[K     |█████████████                   | 1.1MB 9.7MB/s eta 0:00:01\r\u001b[K     |█████████████                   | 1.1MB 9.7MB/s eta 0:00:01\r\u001b[K     |█████████████▏                  | 1.1MB 9.7MB/s eta 0:00:01\r\u001b[K     |█████████████▎                  | 1.1MB 9.7MB/s eta 0:00:01\r\u001b[K     |█████████████▍                  | 1.1MB 9.7MB/s eta 0:00:01\r\u001b[K     |█████████████▌                  | 1.2MB 9.7MB/s eta 0:00:01\r\u001b[K     |█████████████▋                  | 1.2MB 9.7MB/s eta 0:00:01\r\u001b[K     |█████████████▊                  | 1.2MB 9.7MB/s eta 0:00:01\r\u001b[K     |█████████████▉                  | 1.2MB 9.7MB/s eta 0:00:01\r\u001b[K     |██████████████                  | 1.2MB 9.7MB/s eta 0:00:01\r\u001b[K     |██████████████▏                 | 1.2MB 9.7MB/s eta 0:00:01\r\u001b[K     |██████████████▎                 | 1.2MB 9.7MB/s eta 0:00:01\r\u001b[K     |██████████████▍                 | 1.2MB 9.7MB/s eta 0:00:01\r\u001b[K     |██████████████▌                 | 1.2MB 9.7MB/s eta 0:00:01\r\u001b[K     |██████████████▋                 | 1.2MB 9.7MB/s eta 0:00:01\r\u001b[K     |██████████████▊                 | 1.3MB 9.7MB/s eta 0:00:01\r\u001b[K     |██████████████▉                 | 1.3MB 9.7MB/s eta 0:00:01\r\u001b[K     |███████████████                 | 1.3MB 9.7MB/s eta 0:00:01\r\u001b[K     |███████████████                 | 1.3MB 9.7MB/s eta 0:00:01\r\u001b[K     |███████████████▏                | 1.3MB 9.7MB/s eta 0:00:01\r\u001b[K     |███████████████▎                | 1.3MB 9.7MB/s eta 0:00:01\r\u001b[K     |███████████████▍                | 1.3MB 9.7MB/s eta 0:00:01\r\u001b[K     |███████████████▌                | 1.3MB 9.7MB/s eta 0:00:01\r\u001b[K     |███████████████▋                | 1.3MB 9.7MB/s eta 0:00:01\r\u001b[K     |███████████████▉                | 1.4MB 9.7MB/s eta 0:00:01\r\u001b[K     |████████████████                | 1.4MB 9.7MB/s eta 0:00:01\r\u001b[K     |████████████████                | 1.4MB 9.7MB/s eta 0:00:01\r\u001b[K     |████████████████▏               | 1.4MB 9.7MB/s eta 0:00:01\r\u001b[K     |████████████████▎               | 1.4MB 9.7MB/s eta 0:00:01\r\u001b[K     |████████████████▍               | 1.4MB 9.7MB/s eta 0:00:01\r\u001b[K     |████████████████▌               | 1.4MB 9.7MB/s eta 0:00:01\r\u001b[K     |████████████████▋               | 1.4MB 9.7MB/s eta 0:00:01\r\u001b[K     |████████████████▊               | 1.4MB 9.7MB/s eta 0:00:01\r\u001b[K     |████████████████▉               | 1.4MB 9.7MB/s eta 0:00:01\r\u001b[K     |█████████████████               | 1.5MB 9.7MB/s eta 0:00:01\r\u001b[K     |█████████████████               | 1.5MB 9.7MB/s eta 0:00:01\r\u001b[K     |█████████████████▏              | 1.5MB 9.7MB/s eta 0:00:01\r\u001b[K     |█████████████████▍              | 1.5MB 9.7MB/s eta 0:00:01\r\u001b[K     |█████████████████▌              | 1.5MB 9.7MB/s eta 0:00:01\r\u001b[K     |█████████████████▋              | 1.5MB 9.7MB/s eta 0:00:01\r\u001b[K     |█████████████████▊              | 1.5MB 9.7MB/s eta 0:00:01\r\u001b[K     |█████████████████▉              | 1.5MB 9.7MB/s eta 0:00:01\r\u001b[K     |██████████████████              | 1.5MB 9.7MB/s eta 0:00:01\r\u001b[K     |██████████████████              | 1.5MB 9.7MB/s eta 0:00:01\r\u001b[K     |██████████████████▏             | 1.6MB 9.7MB/s eta 0:00:01\r\u001b[K     |██████████████████▎             | 1.6MB 9.7MB/s eta 0:00:01\r\u001b[K     |██████████████████▍             | 1.6MB 9.7MB/s eta 0:00:01\r\u001b[K     |██████████████████▌             | 1.6MB 9.7MB/s eta 0:00:01\r\u001b[K     |██████████████████▋             | 1.6MB 9.7MB/s eta 0:00:01\r\u001b[K     |██████████████████▊             | 1.6MB 9.7MB/s eta 0:00:01\r\u001b[K     |███████████████████             | 1.6MB 9.7MB/s eta 0:00:01\r\u001b[K     |███████████████████             | 1.6MB 9.7MB/s eta 0:00:01\r\u001b[K     |███████████████████▏            | 1.6MB 9.7MB/s eta 0:00:01\r\u001b[K     |███████████████████▎            | 1.6MB 9.7MB/s eta 0:00:01\r\u001b[K     |███████████████████▍            | 1.7MB 9.7MB/s eta 0:00:01\r\u001b[K     |███████████████████▌            | 1.7MB 9.7MB/s eta 0:00:01\r\u001b[K     |███████████████████▋            | 1.7MB 9.7MB/s eta 0:00:01\r\u001b[K     |███████████████████▊            | 1.7MB 9.7MB/s eta 0:00:01\r\u001b[K     |███████████████████▉            | 1.7MB 9.7MB/s eta 0:00:01\r\u001b[K     |████████████████████            | 1.7MB 9.7MB/s eta 0:00:01\r\u001b[K     |████████████████████            | 1.7MB 9.7MB/s eta 0:00:01\r\u001b[K     |████████████████████▏           | 1.7MB 9.7MB/s eta 0:00:01\r\u001b[K     |████████████████████▎           | 1.7MB 9.7MB/s eta 0:00:01\r\u001b[K     |████████████████████▌           | 1.8MB 9.7MB/s eta 0:00:01\r\u001b[K     |████████████████████▋           | 1.8MB 9.7MB/s eta 0:00:01\r\u001b[K     |████████████████████▊           | 1.8MB 9.7MB/s eta 0:00:01\r\u001b[K     |████████████████████▉           | 1.8MB 9.7MB/s eta 0:00:01\r\u001b[K     |█████████████████████           | 1.8MB 9.7MB/s eta 0:00:01\r\u001b[K     |█████████████████████           | 1.8MB 9.7MB/s eta 0:00:01\r\u001b[K     |█████████████████████▏          | 1.8MB 9.7MB/s eta 0:00:01\r\u001b[K     |█████████████████████▎          | 1.8MB 9.7MB/s eta 0:00:01\r\u001b[K     |█████████████████████▍          | 1.8MB 9.7MB/s eta 0:00:01\r\u001b[K     |█████████████████████▌          | 1.8MB 9.7MB/s eta 0:00:01\r\u001b[K     |█████████████████████▋          | 1.9MB 9.7MB/s eta 0:00:01\r\u001b[K     |█████████████████████▊          | 1.9MB 9.7MB/s eta 0:00:01\r\u001b[K     |█████████████████████▉          | 1.9MB 9.7MB/s eta 0:00:01\r\u001b[K     |██████████████████████          | 1.9MB 9.7MB/s eta 0:00:01\r\u001b[K     |██████████████████████▏         | 1.9MB 9.7MB/s eta 0:00:01\r\u001b[K     |██████████████████████▎         | 1.9MB 9.7MB/s eta 0:00:01\r\u001b[K     |██████████████████████▍         | 1.9MB 9.7MB/s eta 0:00:01\r\u001b[K     |██████████████████████▌         | 1.9MB 9.7MB/s eta 0:00:01\r\u001b[K     |██████████████████████▋         | 1.9MB 9.7MB/s eta 0:00:01\r\u001b[K     |██████████████████████▊         | 1.9MB 9.7MB/s eta 0:00:01\r\u001b[K     |██████████████████████▉         | 2.0MB 9.7MB/s eta 0:00:01\r\u001b[K     |███████████████████████         | 2.0MB 9.7MB/s eta 0:00:01\r\u001b[K     |███████████████████████         | 2.0MB 9.7MB/s eta 0:00:01\r\u001b[K     |███████████████████████▏        | 2.0MB 9.7MB/s eta 0:00:01\r\u001b[K     |███████████████████████▎        | 2.0MB 9.7MB/s eta 0:00:01\r\u001b[K     |███████████████████████▍        | 2.0MB 9.7MB/s eta 0:00:01\r\u001b[K     |███████████████████████▋        | 2.0MB 9.7MB/s eta 0:00:01\r\u001b[K     |███████████████████████▊        | 2.0MB 9.7MB/s eta 0:00:01\r\u001b[K     |███████████████████████▉        | 2.0MB 9.7MB/s eta 0:00:01\r\u001b[K     |████████████████████████        | 2.0MB 9.7MB/s eta 0:00:01\r\u001b[K     |████████████████████████        | 2.1MB 9.7MB/s eta 0:00:01\r\u001b[K     |████████████████████████▏       | 2.1MB 9.7MB/s eta 0:00:01\r\u001b[K     |████████████████████████▎       | 2.1MB 9.7MB/s eta 0:00:01\r\u001b[K     |████████████████████████▍       | 2.1MB 9.7MB/s eta 0:00:01\r\u001b[K     |████████████████████████▌       | 2.1MB 9.7MB/s eta 0:00:01\r\u001b[K     |████████████████████████▋       | 2.1MB 9.7MB/s eta 0:00:01\r\u001b[K     |████████████████████████▊       | 2.1MB 9.7MB/s eta 0:00:01\r\u001b[K     |████████████████████████▉       | 2.1MB 9.7MB/s eta 0:00:01\r\u001b[K     |█████████████████████████       | 2.1MB 9.7MB/s eta 0:00:01\r\u001b[K     |█████████████████████████▏      | 2.2MB 9.7MB/s eta 0:00:01\r\u001b[K     |█████████████████████████▎      | 2.2MB 9.7MB/s eta 0:00:01\r\u001b[K     |█████████████████████████▍      | 2.2MB 9.7MB/s eta 0:00:01\r\u001b[K     |█████████████████████████▌      | 2.2MB 9.7MB/s eta 0:00:01\r\u001b[K     |█████████████████████████▋      | 2.2MB 9.7MB/s eta 0:00:01\r\u001b[K     |█████████████████████████▊      | 2.2MB 9.7MB/s eta 0:00:01\r\u001b[K     |█████████████████████████▉      | 2.2MB 9.7MB/s eta 0:00:01\r\u001b[K     |██████████████████████████      | 2.2MB 9.7MB/s eta 0:00:01\r\u001b[K     |██████████████████████████      | 2.2MB 9.7MB/s eta 0:00:01\r\u001b[K     |██████████████████████████▏     | 2.2MB 9.7MB/s eta 0:00:01\r\u001b[K     |██████████████████████████▎     | 2.3MB 9.7MB/s eta 0:00:01\r\u001b[K     |██████████████████████████▍     | 2.3MB 9.7MB/s eta 0:00:01\r\u001b[K     |██████████████████████████▌     | 2.3MB 9.7MB/s eta 0:00:01\r\u001b[K     |██████████████████████████▊     | 2.3MB 9.7MB/s eta 0:00:01\r\u001b[K     |██████████████████████████▉     | 2.3MB 9.7MB/s eta 0:00:01\r\u001b[K     |███████████████████████████     | 2.3MB 9.7MB/s eta 0:00:01\r\u001b[K     |███████████████████████████     | 2.3MB 9.7MB/s eta 0:00:01\r\u001b[K     |███████████████████████████▏    | 2.3MB 9.7MB/s eta 0:00:01\r\u001b[K     |███████████████████████████▎    | 2.3MB 9.7MB/s eta 0:00:01\r\u001b[K     |███████████████████████████▍    | 2.3MB 9.7MB/s eta 0:00:01\r\u001b[K     |███████████████████████████▌    | 2.4MB 9.7MB/s eta 0:00:01\r\u001b[K     |███████████████████████████▋    | 2.4MB 9.7MB/s eta 0:00:01\r\u001b[K     |███████████████████████████▊    | 2.4MB 9.7MB/s eta 0:00:01\r\u001b[K     |███████████████████████████▉    | 2.4MB 9.7MB/s eta 0:00:01\r\u001b[K     |████████████████████████████    | 2.4MB 9.7MB/s eta 0:00:01\r\u001b[K     |████████████████████████████    | 2.4MB 9.7MB/s eta 0:00:01\r\u001b[K     |████████████████████████████▎   | 2.4MB 9.7MB/s eta 0:00:01\r\u001b[K     |████████████████████████████▍   | 2.4MB 9.7MB/s eta 0:00:01\r\u001b[K     |████████████████████████████▌   | 2.4MB 9.7MB/s eta 0:00:01\r\u001b[K     |████████████████████████████▋   | 2.4MB 9.7MB/s eta 0:00:01\r\u001b[K     |████████████████████████████▊   | 2.5MB 9.7MB/s eta 0:00:01\r\u001b[K     |████████████████████████████▉   | 2.5MB 9.7MB/s eta 0:00:01\r\u001b[K     |█████████████████████████████   | 2.5MB 9.7MB/s eta 0:00:01\r\u001b[K     |█████████████████████████████   | 2.5MB 9.7MB/s eta 0:00:01\r\u001b[K     |█████████████████████████████▏  | 2.5MB 9.7MB/s eta 0:00:01\r\u001b[K     |█████████████████████████████▎  | 2.5MB 9.7MB/s eta 0:00:01\r\u001b[K     |█████████████████████████████▍  | 2.5MB 9.7MB/s eta 0:00:01\r\u001b[K     |█████████████████████████████▌  | 2.5MB 9.7MB/s eta 0:00:01\r\u001b[K     |█████████████████████████████▋  | 2.5MB 9.7MB/s eta 0:00:01\r\u001b[K     |█████████████████████████████▊  | 2.5MB 9.7MB/s eta 0:00:01\r\u001b[K     |██████████████████████████████  | 2.6MB 9.7MB/s eta 0:00:01\r\u001b[K     |██████████████████████████████  | 2.6MB 9.7MB/s eta 0:00:01\r\u001b[K     |██████████████████████████████▏ | 2.6MB 9.7MB/s eta 0:00:01\r\u001b[K     |██████████████████████████████▎ | 2.6MB 9.7MB/s eta 0:00:01\r\u001b[K     |██████████████████████████████▍ | 2.6MB 9.7MB/s eta 0:00:01\r\u001b[K     |██████████████████████████████▌ | 2.6MB 9.7MB/s eta 0:00:01\r\u001b[K     |██████████████████████████████▋ | 2.6MB 9.7MB/s eta 0:00:01\r\u001b[K     |██████████████████████████████▊ | 2.6MB 9.7MB/s eta 0:00:01\r\u001b[K     |██████████████████████████████▉ | 2.6MB 9.7MB/s eta 0:00:01\r\u001b[K     |███████████████████████████████ | 2.7MB 9.7MB/s eta 0:00:01\r\u001b[K     |███████████████████████████████ | 2.7MB 9.7MB/s eta 0:00:01\r\u001b[K     |███████████████████████████████▏| 2.7MB 9.7MB/s eta 0:00:01\r\u001b[K     |███████████████████████████████▎| 2.7MB 9.7MB/s eta 0:00:01\r\u001b[K     |███████████████████████████████▌| 2.7MB 9.7MB/s eta 0:00:01\r\u001b[K     |███████████████████████████████▋| 2.7MB 9.7MB/s eta 0:00:01\r\u001b[K     |███████████████████████████████▊| 2.7MB 9.7MB/s eta 0:00:01\r\u001b[K     |███████████████████████████████▉| 2.7MB 9.7MB/s eta 0:00:01\r\u001b[K     |████████████████████████████████| 2.7MB 9.7MB/s eta 0:00:01\r\u001b[K     |████████████████████████████████| 2.7MB 9.7MB/s \n",
            "\u001b[?25h"
          ],
          "name": "stdout"
        }
      ]
    },
    {
      "cell_type": "code",
      "metadata": {
        "colab": {
          "base_uri": "https://localhost:8080/"
        },
        "id": "QEpF5UOsvYZn",
        "outputId": "6bb504c2-a528-4a03-90ba-b3ee217b46ce"
      },
      "source": [
        "oov_words[:20]"
      ],
      "execution_count": 17,
      "outputs": [
        {
          "output_type": "execute_result",
          "data": {
            "text/plain": [
              "['tourests',\n",
              " 'positivesgreat',\n",
              " 'thomsour',\n",
              " 'toppest',\n",
              " 'hisortic',\n",
              " 'somewaht',\n",
              " 'absolutelyloved',\n",
              " 'quaintly',\n",
              " 'postmodernist',\n",
              " 'metreon',\n",
              " 'resturantsthe',\n",
              " 'busiers',\n",
              " 'prodruding',\n",
              " 'aguaviva',\n",
              " 'talled',\n",
              " 'dewamarco',\n",
              " 'visisted',\n",
              " 'surroundingus',\n",
              " 'butthe',\n",
              " 'luxurty']"
            ]
          },
          "metadata": {
            "tags": []
          },
          "execution_count": 17
        }
      ]
    },
    {
      "cell_type": "code",
      "metadata": {
        "id": "94CluPHS71kR"
      },
      "source": [
        "import json\n",
        "\n",
        "def get_autocorrections(oov_words):\n",
        "  spell = SpellChecker()\n",
        "  auto_corrections = {}\n",
        "\n",
        "  for word in oov_words:\n",
        "      # Get the one `most likely` answer\n",
        "      auto_corrections[word] = spell.correction(word)\n",
        "      if len(auto_corrections) % 100 == 0:\n",
        "        print(f'corrected: {len(auto_corrections)} words from a total of {len(oov_words)}')\n",
        "  \n",
        "  with open(os.path.join(base_path, 'oov_words.json'), 'w') as json_file:\n",
        "    json.dump(auto_corrections, json_file)\n",
        "\n",
        "def load_autocorrections_from_json():\n",
        "  with open(os.path.join(base_path, 'oov_words.json')) as json_file:\n",
        "    return json.load(json_file)\n"
      ],
      "execution_count": 18,
      "outputs": []
    },
    {
      "cell_type": "code",
      "metadata": {
        "id": "F9m2ibXIKqmC"
      },
      "source": [
        "#auto_corrections = get_autocorrections(oov_words)"
      ],
      "execution_count": 19,
      "outputs": []
    },
    {
      "cell_type": "code",
      "metadata": {
        "colab": {
          "resources": {
            "http://localhost:8080/nbextensions/google.colab/files.js": {
              "data": "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",
              "ok": true,
              "headers": [
                [
                  "content-type",
                  "application/javascript"
                ]
              ],
              "status": 200,
              "status_text": ""
            }
          },
          "base_uri": "https://localhost:8080/",
          "height": 89
        },
        "id": "sl1Q0ESCK4e5",
        "outputId": "806c61d1-223b-4f78-e173-346829d45d22"
      },
      "source": [
        "files.upload()\n",
        "! cp oov_words.json ~/content/"
      ],
      "execution_count": 20,
      "outputs": [
        {
          "output_type": "display_data",
          "data": {
            "text/html": [
              "\n",
              "     <input type=\"file\" id=\"files-961bae24-67f3-499f-93e9-0bb3e098e3cb\" name=\"files[]\" multiple disabled\n",
              "        style=\"border:none\" />\n",
              "     <output id=\"result-961bae24-67f3-499f-93e9-0bb3e098e3cb\">\n",
              "      Upload widget is only available when the cell has been executed in the\n",
              "      current browser session. Please rerun this cell to enable.\n",
              "      </output>\n",
              "      <script src=\"/nbextensions/google.colab/files.js\"></script> "
            ],
            "text/plain": [
              "<IPython.core.display.HTML object>"
            ]
          },
          "metadata": {
            "tags": []
          }
        },
        {
          "output_type": "stream",
          "text": [
            "Saving oov_words.json to oov_words.json\n",
            "cp: cannot create regular file '/root/content/': Not a directory\n"
          ],
          "name": "stdout"
        }
      ]
    },
    {
      "cell_type": "code",
      "metadata": {
        "id": "DM67ZO_YJaS2"
      },
      "source": [
        "auto_corrections = load_autocorrections_from_json()"
      ],
      "execution_count": 21,
      "outputs": []
    },
    {
      "cell_type": "markdown",
      "metadata": {
        "id": "ahXlrzdKNn9q"
      },
      "source": [
        "# Adding word vectors for Out of Vocabulary words"
      ]
    },
    {
      "cell_type": "code",
      "metadata": {
        "id": "JyREdLLlMgMA"
      },
      "source": [
        "for oov_word, correction in auto_corrections.items():\n",
        "  embedding_vector = embeddings_index.get(correction);\n",
        "  if embedding_vector is not None:\n",
        "    embeddings_matrix[word_index[oov_word]] = embedding_vector"
      ],
      "execution_count": 22,
      "outputs": []
    },
    {
      "cell_type": "markdown",
      "metadata": {
        "id": "2mUhKsgOqR_0"
      },
      "source": [
        "# Building model"
      ]
    },
    {
      "cell_type": "code",
      "metadata": {
        "id": "M3Aun9DL6M6i"
      },
      "source": [
        "from tensorflow.keras.layers import Embedding, LSTM, Dense, Dropout, Bidirectional\n",
        "from tensorflow.keras.models import Sequential\n",
        "from tensorflow.keras.optimizers import Adam\n",
        "\n",
        "def build_model(total_words, embedding_dim, input_length, embeddings_matrix):\n",
        "  model = Sequential([\n",
        "  tf.keras.layers.Embedding(total_words, embedding_dim, input_length=input_length, weights=[embeddings_matrix], trainable=False),\n",
        "  tf.keras.layers.Bidirectional(tf.keras.layers.LSTM(64)),\n",
        "  tf.keras.layers.Dropout(0.5),\n",
        "  tf.keras.layers.Dense(128, activation='relu'),\n",
        "  tf.keras.layers.Dropout(0.5),\n",
        "  tf.keras.layers.Dense(64, activation='relu'),\n",
        "  tf.keras.layers.Dropout(0.5),\n",
        "  tf.keras.layers.Dense(1),\n",
        "])\n",
        "  model.compile(\n",
        "    loss='mse', \n",
        "    optimizer=tf.keras.optimizers.Adam(), \n",
        "    metrics=['mae'])\n",
        "  return model\n",
        "  "
      ],
      "execution_count": 27,
      "outputs": []
    },
    {
      "cell_type": "code",
      "metadata": {
        "colab": {
          "base_uri": "https://localhost:8080/"
        },
        "id": "C9jVF_rX4z1f",
        "outputId": "b8eeb35b-521d-40b8-dd6d-10795f58e1ef"
      },
      "source": [
        "model = build_model(total_words, embedding_dim, max_sequence_len, embeddings_matrix)\n",
        "\n",
        "print(model.summary())"
      ],
      "execution_count": 28,
      "outputs": [
        {
          "output_type": "stream",
          "text": [
            "Model: \"sequential_1\"\n",
            "_________________________________________________________________\n",
            "Layer (type)                 Output Shape              Param #   \n",
            "=================================================================\n",
            "embedding_1 (Embedding)      (None, 1933, 100)         4955700   \n",
            "_________________________________________________________________\n",
            "bidirectional_1 (Bidirection (None, 128)               84480     \n",
            "_________________________________________________________________\n",
            "dropout_3 (Dropout)          (None, 128)               0         \n",
            "_________________________________________________________________\n",
            "dense_3 (Dense)              (None, 128)               16512     \n",
            "_________________________________________________________________\n",
            "dropout_4 (Dropout)          (None, 128)               0         \n",
            "_________________________________________________________________\n",
            "dense_4 (Dense)              (None, 64)                8256      \n",
            "_________________________________________________________________\n",
            "dropout_5 (Dropout)          (None, 64)                0         \n",
            "_________________________________________________________________\n",
            "dense_5 (Dense)              (None, 1)                 65        \n",
            "=================================================================\n",
            "Total params: 5,065,013\n",
            "Trainable params: 109,313\n",
            "Non-trainable params: 4,955,700\n",
            "_________________________________________________________________\n",
            "None\n"
          ],
          "name": "stdout"
        }
      ]
    },
    {
      "cell_type": "markdown",
      "metadata": {
        "id": "cQeJoCzPqxIG"
      },
      "source": [
        "# Training model"
      ]
    },
    {
      "cell_type": "code",
      "metadata": {
        "id": "rHDQ9sm8-vLS"
      },
      "source": [
        "!pip install -q livelossplot\n",
        "from livelossplot import PlotLossesKeras"
      ],
      "execution_count": 29,
      "outputs": []
    },
    {
      "cell_type": "code",
      "metadata": {
        "colab": {
          "base_uri": "https://localhost:8080/",
          "height": 687
        },
        "id": "4feHiRoC6Lge",
        "outputId": "c45c1298-8655-46a1-df35-ef60b12bd667"
      },
      "source": [
        "history = model.fit(\n",
        "    x=train_sequences, \n",
        "    y=y_train, \n",
        "    validation_split=0.05, \n",
        "    epochs=60, \n",
        "    callbacks=[PlotLossesKeras()],\n",
        "    shuffle=True)"
      ],
      "execution_count": 30,
      "outputs": [
        {
          "output_type": "display_data",
          "data": {
            "image/png": "[encoded data removed]",
            "text/plain": [
              "<Figure size 864x576 with 2 Axes>"
            ]
          },
          "metadata": {
            "tags": [],
            "needs_background": "light"
          }
        },
        {
          "output_type": "stream",
          "text": [
            "Loss\n",
            "\ttraining         \t (min:    0.210, max:    2.115, cur:    0.210)\n",
            "\tvalidation       \t (min:    0.402, max:    0.851, cur:    0.464)\n",
            "mae\n",
            "\ttraining         \t (min:    0.350, max:    1.152, cur:    0.350)\n",
            "\tvalidation       \t (min:    0.465, max:    0.750, cur:    0.497)\n"
          ],
          "name": "stdout"
        }
      ]
    },
    {
      "cell_type": "code",
      "metadata": {
        "id": "kztzdkFyOxuR",
        "colab": {
          "base_uri": "https://localhost:8080/"
        },
        "outputId": "fc9859d8-223b-4b3e-fd1f-04d5fbd8847d"
      },
      "source": [
        "from sklearn.metrics import accuracy_score\n",
        "\n",
        "yhat = model(test_sequences)\n",
        "preds = np.round(yhat).astype(int)\n",
        "\n",
        "df_preds = pd.DataFrame({\n",
        "    'y_true': y_test.astype(int),\n",
        "    'y_pred': preds[:,0], \n",
        "    'y_hat': yhat[:,0],\n",
        "    'mae': np.abs(y_test - yhat[:,0]),\n",
        "    'review': x_test\n",
        "    })\n",
        "print('total predictions', len(df_preds))\n",
        "df_errors = df_preds[df_preds['y_true'] != df_preds['y_pred']]\n",
        "print('total errors', len(df_errors))\n",
        "print('accuracy score', accuracy_score(df_preds['y_true'], df_preds['y_pred']))\n"
      ],
      "execution_count": 31,
      "outputs": [
        {
          "output_type": "stream",
          "text": [
            "total predictions 1025\n",
            "total errors 407\n",
            "accuracy score 0.6029268292682927\n"
          ],
          "name": "stdout"
        }
      ]
    },
    {
      "cell_type": "code",
      "metadata": {
        "colab": {
          "base_uri": "https://localhost:8080/",
          "height": 428
        },
        "id": "6YO6T7o3ynZw",
        "outputId": "5cde2d12-3ade-4f8c-a961-e13953203fcd"
      },
      "source": [
        "\n",
        "\n",
        "conf_matrix = tf.math.confusion_matrix(\n",
        "    df_errors['y_true'].values, \n",
        "    df_errors['y_pred'].values\n",
        ")\n",
        "\n",
        "plt.figure(figsize = (12,7))\n",
        "sns.heatmap(conf_matrix, annot=True, fmt=\"d\")\n",
        "plt.show()"
      ],
      "execution_count": 33,
      "outputs": [
        {
          "output_type": "display_data",
          "data": {
            "image/png": "[encoded data removed]",
            "text/plain": [
              "<Figure size 864x504 with 2 Axes>"
            ]
          },
          "metadata": {
            "tags": [],
            "needs_background": "light"
          }
        }
      ]
    }
  ]
}